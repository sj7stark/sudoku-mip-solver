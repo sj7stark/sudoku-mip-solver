{
 "cells": [
  {
   "cell_type": "markdown",
   "metadata": {},
   "source": [
    "# Solving a Sudoku using Mixed Integer Programming"
   ]
  },
  {
   "cell_type": "markdown",
   "metadata": {},
   "source": [
    "# Imports"
   ]
  },
  {
   "cell_type": "code",
   "execution_count": 1,
   "metadata": {},
   "outputs": [],
   "source": [
    "from docplex.mp.model import Model"
   ]
  },
  {
   "cell_type": "markdown",
   "metadata": {},
   "source": [
    "# Inputs"
   ]
  },
  {
   "cell_type": "markdown",
   "metadata": {},
   "source": [
    "## Sets"
   ]
  },
  {
   "cell_type": "markdown",
   "metadata": {},
   "source": [
    "$N = {1, 2, ..., 9}$: The set of numbers\n",
    "\n",
    "The set of rows, columns, and numbers all use the same set N"
   ]
  },
  {
   "cell_type": "code",
   "execution_count": 2,
   "metadata": {},
   "outputs": [
    {
     "data": {
      "text/plain": [
       "'N=[1, 2, 3, 4, 5, 6, 7, 8, 9]'"
      ]
     },
     "execution_count": 2,
     "metadata": {},
     "output_type": "execute_result"
    }
   ],
   "source": [
    "# numbers 1-9 in row, column, and digit\n",
    "N = list(range(1,10))\n",
    "f\"{N=}\""
   ]
  },
  {
   "cell_type": "markdown",
   "metadata": {},
   "source": [
    "# Optimization Model"
   ]
  },
  {
   "cell_type": "markdown",
   "metadata": {},
   "source": [
    "## Create a CPLEX model object"
   ]
  },
  {
   "cell_type": "code",
   "execution_count": 3,
   "metadata": {},
   "outputs": [],
   "source": [
    "sudoku = Model(name='sudoku-mip')"
   ]
  },
  {
   "cell_type": "markdown",
   "metadata": {},
   "source": [
    "## Decision Variables"
   ]
  },
  {
   "cell_type": "markdown",
   "metadata": {},
   "source": [
    "$x_{ijk}$: $1$ if number $k \\in N$ is assigned to the cell containing row $i \\in N$ and column $j \\in N$; $0$ otherwise"
   ]
  },
  {
   "cell_type": "code",
   "execution_count": 4,
   "metadata": {},
   "outputs": [],
   "source": [
    "x = sudoku.binary_var_dict(keys = [(i, j, k) for i in N for j in N for k in N], name=\"x\")"
   ]
  },
  {
   "cell_type": "markdown",
   "metadata": {},
   "source": [
    "## Objective Function"
   ]
  },
  {
   "cell_type": "markdown",
   "metadata": {},
   "source": [
    "There is no objective, so we can just minimize 0\n",
    "\n",
    "$minimize \\quad 0$"
   ]
  },
  {
   "cell_type": "code",
   "execution_count": 5,
   "metadata": {},
   "outputs": [],
   "source": [
    "sudoku.minimize(0)"
   ]
  },
  {
   "cell_type": "markdown",
   "metadata": {},
   "source": [
    "## Constraints"
   ]
  },
  {
   "cell_type": "markdown",
   "metadata": {},
   "source": [
    "Each number appears in each row exactly once\n",
    "\n",
    "$\\sum_{j \\in N}x_{ijk} = 1, \\quad \\forall i \\in N, \\space k \\in N$"
   ]
  },
  {
   "cell_type": "code",
   "execution_count": 6,
   "metadata": {},
   "outputs": [
    {
     "data": {
      "text/plain": [
       "[docplex.mp.LinearConstraint[](x_1_1_1+x_1_2_1+x_1_3_1+x_1_4_1+x_1_5_1+x_1_6_1+x_1_7_1+x_1_8_1+x_1_9_1,EQ,1),\n",
       " docplex.mp.LinearConstraint[](x_1_1_2+x_1_2_2+x_1_3_2+x_1_4_2+x_1_5_2+x_1_6_2+x_1_7_2+x_1_8_2+x_1_9_2,EQ,1),\n",
       " docplex.mp.LinearConstraint[](x_1_1_3+x_1_2_3+x_1_3_3+x_1_4_3+x_1_5_3+x_1_6_3+x_1_7_3+x_1_8_3+x_1_9_3,EQ,1),\n",
       " docplex.mp.LinearConstraint[](x_1_1_4+x_1_2_4+x_1_3_4+x_1_4_4+x_1_5_4+x_1_6_4+x_1_7_4+x_1_8_4+x_1_9_4,EQ,1),\n",
       " docplex.mp.LinearConstraint[](x_1_1_5+x_1_2_5+x_1_3_5+x_1_4_5+x_1_5_5+x_1_6_5+x_1_7_5+x_1_8_5+x_1_9_5,EQ,1),\n",
       " docplex.mp.LinearConstraint[](x_1_1_6+x_1_2_6+x_1_3_6+x_1_4_6+x_1_5_6+x_1_6_6+x_1_7_6+x_1_8_6+x_1_9_6,EQ,1),\n",
       " docplex.mp.LinearConstraint[](x_1_1_7+x_1_2_7+x_1_3_7+x_1_4_7+x_1_5_7+x_1_6_7+x_1_7_7+x_1_8_7+x_1_9_7,EQ,1),\n",
       " docplex.mp.LinearConstraint[](x_1_1_8+x_1_2_8+x_1_3_8+x_1_4_8+x_1_5_8+x_1_6_8+x_1_7_8+x_1_8_8+x_1_9_8,EQ,1),\n",
       " docplex.mp.LinearConstraint[](x_1_1_9+x_1_2_9+x_1_3_9+x_1_4_9+x_1_5_9+x_1_6_9+x_1_7_9+x_1_8_9+x_1_9_9,EQ,1),\n",
       " docplex.mp.LinearConstraint[](x_2_1_1+x_2_2_1+x_2_3_1+x_2_4_1+x_2_5_1+x_2_6_1+x_2_7_1+x_2_8_1+x_2_9_1,EQ,1),\n",
       " docplex.mp.LinearConstraint[](x_2_1_2+x_2_2_2+x_2_3_2+x_2_4_2+x_2_5_2+x_2_6_2+x_2_7_2+x_2_8_2+x_2_9_2,EQ,1),\n",
       " docplex.mp.LinearConstraint[](x_2_1_3+x_2_2_3+x_2_3_3+x_2_4_3+x_2_5_3+x_2_6_3+x_2_7_3+x_2_8_3+x_2_9_3,EQ,1),\n",
       " docplex.mp.LinearConstraint[](x_2_1_4+x_2_2_4+x_2_3_4+x_2_4_4+x_2_5_4+x_2_6_4+x_2_7_4+x_2_8_4+x_2_9_4,EQ,1),\n",
       " docplex.mp.LinearConstraint[](x_2_1_5+x_2_2_5+x_2_3_5+x_2_4_5+x_2_5_5+x_2_6_5+x_2_7_5+x_2_8_5+x_2_9_5,EQ,1),\n",
       " docplex.mp.LinearConstraint[](x_2_1_6+x_2_2_6+x_2_3_6+x_2_4_6+x_2_5_6+x_2_6_6+x_2_7_6+x_2_8_6+x_2_9_6,EQ,1),\n",
       " docplex.mp.LinearConstraint[](x_2_1_7+x_2_2_7+x_2_3_7+x_2_4_7+x_2_5_7+x_2_6_7+x_2_7_7+x_2_8_7+x_2_9_7,EQ,1),\n",
       " docplex.mp.LinearConstraint[](x_2_1_8+x_2_2_8+x_2_3_8+x_2_4_8+x_2_5_8+x_2_6_8+x_2_7_8+x_2_8_8+x_2_9_8,EQ,1),\n",
       " docplex.mp.LinearConstraint[](x_2_1_9+x_2_2_9+x_2_3_9+x_2_4_9+x_2_5_9+x_2_6_9+x_2_7_9+x_2_8_9+x_2_9_9,EQ,1),\n",
       " docplex.mp.LinearConstraint[](x_3_1_1+x_3_2_1+x_3_3_1+x_3_4_1+x_3_5_1+x_3_6_1+x_3_7_1+x_3_8_1+x_3_9_1,EQ,1),\n",
       " docplex.mp.LinearConstraint[](x_3_1_2+x_3_2_2+x_3_3_2+x_3_4_2+x_3_5_2+x_3_6_2+x_3_7_2+x_3_8_2+x_3_9_2,EQ,1),\n",
       " docplex.mp.LinearConstraint[](x_3_1_3+x_3_2_3+x_3_3_3+x_3_4_3+x_3_5_3+x_3_6_3+x_3_7_3+x_3_8_3+x_3_9_3,EQ,1),\n",
       " docplex.mp.LinearConstraint[](x_3_1_4+x_3_2_4+x_3_3_4+x_3_4_4+x_3_5_4+x_3_6_4+x_3_7_4+x_3_8_4+x_3_9_4,EQ,1),\n",
       " docplex.mp.LinearConstraint[](x_3_1_5+x_3_2_5+x_3_3_5+x_3_4_5+x_3_5_5+x_3_6_5+x_3_7_5+x_3_8_5+x_3_9_5,EQ,1),\n",
       " docplex.mp.LinearConstraint[](x_3_1_6+x_3_2_6+x_3_3_6+x_3_4_6+x_3_5_6+x_3_6_6+x_3_7_6+x_3_8_6+x_3_9_6,EQ,1),\n",
       " docplex.mp.LinearConstraint[](x_3_1_7+x_3_2_7+x_3_3_7+x_3_4_7+x_3_5_7+x_3_6_7+x_3_7_7+x_3_8_7+x_3_9_7,EQ,1),\n",
       " docplex.mp.LinearConstraint[](x_3_1_8+x_3_2_8+x_3_3_8+x_3_4_8+x_3_5_8+x_3_6_8+x_3_7_8+x_3_8_8+x_3_9_8,EQ,1),\n",
       " docplex.mp.LinearConstraint[](x_3_1_9+x_3_2_9+x_3_3_9+x_3_4_9+x_3_5_9+x_3_6_9+x_3_7_9+x_3_8_9+x_3_9_9,EQ,1),\n",
       " docplex.mp.LinearConstraint[](x_4_1_1+x_4_2_1+x_4_3_1+x_4_4_1+x_4_5_1+x_4_6_1+x_4_7_1+x_4_8_1+x_4_9_1,EQ,1),\n",
       " docplex.mp.LinearConstraint[](x_4_1_2+x_4_2_2+x_4_3_2+x_4_4_2+x_4_5_2+x_4_6_2+x_4_7_2+x_4_8_2+x_4_9_2,EQ,1),\n",
       " docplex.mp.LinearConstraint[](x_4_1_3+x_4_2_3+x_4_3_3+x_4_4_3+x_4_5_3+x_4_6_3+x_4_7_3+x_4_8_3+x_4_9_3,EQ,1),\n",
       " docplex.mp.LinearConstraint[](x_4_1_4+x_4_2_4+x_4_3_4+x_4_4_4+x_4_5_4+x_4_6_4+x_4_7_4+x_4_8_4+x_4_9_4,EQ,1),\n",
       " docplex.mp.LinearConstraint[](x_4_1_5+x_4_2_5+x_4_3_5+x_4_4_5+x_4_5_5+x_4_6_5+x_4_7_5+x_4_8_5+x_4_9_5,EQ,1),\n",
       " docplex.mp.LinearConstraint[](x_4_1_6+x_4_2_6+x_4_3_6+x_4_4_6+x_4_5_6+x_4_6_6+x_4_7_6+x_4_8_6+x_4_9_6,EQ,1),\n",
       " docplex.mp.LinearConstraint[](x_4_1_7+x_4_2_7+x_4_3_7+x_4_4_7+x_4_5_7+x_4_6_7+x_4_7_7+x_4_8_7+x_4_9_7,EQ,1),\n",
       " docplex.mp.LinearConstraint[](x_4_1_8+x_4_2_8+x_4_3_8+x_4_4_8+x_4_5_8+x_4_6_8+x_4_7_8+x_4_8_8+x_4_9_8,EQ,1),\n",
       " docplex.mp.LinearConstraint[](x_4_1_9+x_4_2_9+x_4_3_9+x_4_4_9+x_4_5_9+x_4_6_9+x_4_7_9+x_4_8_9+x_4_9_9,EQ,1),\n",
       " docplex.mp.LinearConstraint[](x_5_1_1+x_5_2_1+x_5_3_1+x_5_4_1+x_5_5_1+x_5_6_1+x_5_7_1+x_5_8_1+x_5_9_1,EQ,1),\n",
       " docplex.mp.LinearConstraint[](x_5_1_2+x_5_2_2+x_5_3_2+x_5_4_2+x_5_5_2+x_5_6_2+x_5_7_2+x_5_8_2+x_5_9_2,EQ,1),\n",
       " docplex.mp.LinearConstraint[](x_5_1_3+x_5_2_3+x_5_3_3+x_5_4_3+x_5_5_3+x_5_6_3+x_5_7_3+x_5_8_3+x_5_9_3,EQ,1),\n",
       " docplex.mp.LinearConstraint[](x_5_1_4+x_5_2_4+x_5_3_4+x_5_4_4+x_5_5_4+x_5_6_4+x_5_7_4+x_5_8_4+x_5_9_4,EQ,1),\n",
       " docplex.mp.LinearConstraint[](x_5_1_5+x_5_2_5+x_5_3_5+x_5_4_5+x_5_5_5+x_5_6_5+x_5_7_5+x_5_8_5+x_5_9_5,EQ,1),\n",
       " docplex.mp.LinearConstraint[](x_5_1_6+x_5_2_6+x_5_3_6+x_5_4_6+x_5_5_6+x_5_6_6+x_5_7_6+x_5_8_6+x_5_9_6,EQ,1),\n",
       " docplex.mp.LinearConstraint[](x_5_1_7+x_5_2_7+x_5_3_7+x_5_4_7+x_5_5_7+x_5_6_7+x_5_7_7+x_5_8_7+x_5_9_7,EQ,1),\n",
       " docplex.mp.LinearConstraint[](x_5_1_8+x_5_2_8+x_5_3_8+x_5_4_8+x_5_5_8+x_5_6_8+x_5_7_8+x_5_8_8+x_5_9_8,EQ,1),\n",
       " docplex.mp.LinearConstraint[](x_5_1_9+x_5_2_9+x_5_3_9+x_5_4_9+x_5_5_9+x_5_6_9+x_5_7_9+x_5_8_9+x_5_9_9,EQ,1),\n",
       " docplex.mp.LinearConstraint[](x_6_1_1+x_6_2_1+x_6_3_1+x_6_4_1+x_6_5_1+x_6_6_1+x_6_7_1+x_6_8_1+x_6_9_1,EQ,1),\n",
       " docplex.mp.LinearConstraint[](x_6_1_2+x_6_2_2+x_6_3_2+x_6_4_2+x_6_5_2+x_6_6_2+x_6_7_2+x_6_8_2+x_6_9_2,EQ,1),\n",
       " docplex.mp.LinearConstraint[](x_6_1_3+x_6_2_3+x_6_3_3+x_6_4_3+x_6_5_3+x_6_6_3+x_6_7_3+x_6_8_3+x_6_9_3,EQ,1),\n",
       " docplex.mp.LinearConstraint[](x_6_1_4+x_6_2_4+x_6_3_4+x_6_4_4+x_6_5_4+x_6_6_4+x_6_7_4+x_6_8_4+x_6_9_4,EQ,1),\n",
       " docplex.mp.LinearConstraint[](x_6_1_5+x_6_2_5+x_6_3_5+x_6_4_5+x_6_5_5+x_6_6_5+x_6_7_5+x_6_8_5+x_6_9_5,EQ,1),\n",
       " docplex.mp.LinearConstraint[](x_6_1_6+x_6_2_6+x_6_3_6+x_6_4_6+x_6_5_6+x_6_6_6+x_6_7_6+x_6_8_6+x_6_9_6,EQ,1),\n",
       " docplex.mp.LinearConstraint[](x_6_1_7+x_6_2_7+x_6_3_7+x_6_4_7+x_6_5_7+x_6_6_7+x_6_7_7+x_6_8_7+x_6_9_7,EQ,1),\n",
       " docplex.mp.LinearConstraint[](x_6_1_8+x_6_2_8+x_6_3_8+x_6_4_8+x_6_5_8+x_6_6_8+x_6_7_8+x_6_8_8+x_6_9_8,EQ,1),\n",
       " docplex.mp.LinearConstraint[](x_6_1_9+x_6_2_9+x_6_3_9+x_6_4_9+x_6_5_9+x_6_6_9+x_6_7_9+x_6_8_9+x_6_9_9,EQ,1),\n",
       " docplex.mp.LinearConstraint[](x_7_1_1+x_7_2_1+x_7_3_1+x_7_4_1+x_7_5_1+x_7_6_1+x_7_7_1+x_7_8_1+x_7_9_1,EQ,1),\n",
       " docplex.mp.LinearConstraint[](x_7_1_2+x_7_2_2+x_7_3_2+x_7_4_2+x_7_5_2+x_7_6_2+x_7_7_2+x_7_8_2+x_7_9_2,EQ,1),\n",
       " docplex.mp.LinearConstraint[](x_7_1_3+x_7_2_3+x_7_3_3+x_7_4_3+x_7_5_3+x_7_6_3+x_7_7_3+x_7_8_3+x_7_9_3,EQ,1),\n",
       " docplex.mp.LinearConstraint[](x_7_1_4+x_7_2_4+x_7_3_4+x_7_4_4+x_7_5_4+x_7_6_4+x_7_7_4+x_7_8_4+x_7_9_4,EQ,1),\n",
       " docplex.mp.LinearConstraint[](x_7_1_5+x_7_2_5+x_7_3_5+x_7_4_5+x_7_5_5+x_7_6_5+x_7_7_5+x_7_8_5+x_7_9_5,EQ,1),\n",
       " docplex.mp.LinearConstraint[](x_7_1_6+x_7_2_6+x_7_3_6+x_7_4_6+x_7_5_6+x_7_6_6+x_7_7_6+x_7_8_6+x_7_9_6,EQ,1),\n",
       " docplex.mp.LinearConstraint[](x_7_1_7+x_7_2_7+x_7_3_7+x_7_4_7+x_7_5_7+x_7_6_7+x_7_7_7+x_7_8_7+x_7_9_7,EQ,1),\n",
       " docplex.mp.LinearConstraint[](x_7_1_8+x_7_2_8+x_7_3_8+x_7_4_8+x_7_5_8+x_7_6_8+x_7_7_8+x_7_8_8+x_7_9_8,EQ,1),\n",
       " docplex.mp.LinearConstraint[](x_7_1_9+x_7_2_9+x_7_3_9+x_7_4_9+x_7_5_9+x_7_6_9+x_7_7_9+x_7_8_9+x_7_9_9,EQ,1),\n",
       " docplex.mp.LinearConstraint[](x_8_1_1+x_8_2_1+x_8_3_1+x_8_4_1+x_8_5_1+x_8_6_1+x_8_7_1+x_8_8_1+x_8_9_1,EQ,1),\n",
       " docplex.mp.LinearConstraint[](x_8_1_2+x_8_2_2+x_8_3_2+x_8_4_2+x_8_5_2+x_8_6_2+x_8_7_2+x_8_8_2+x_8_9_2,EQ,1),\n",
       " docplex.mp.LinearConstraint[](x_8_1_3+x_8_2_3+x_8_3_3+x_8_4_3+x_8_5_3+x_8_6_3+x_8_7_3+x_8_8_3+x_8_9_3,EQ,1),\n",
       " docplex.mp.LinearConstraint[](x_8_1_4+x_8_2_4+x_8_3_4+x_8_4_4+x_8_5_4+x_8_6_4+x_8_7_4+x_8_8_4+x_8_9_4,EQ,1),\n",
       " docplex.mp.LinearConstraint[](x_8_1_5+x_8_2_5+x_8_3_5+x_8_4_5+x_8_5_5+x_8_6_5+x_8_7_5+x_8_8_5+x_8_9_5,EQ,1),\n",
       " docplex.mp.LinearConstraint[](x_8_1_6+x_8_2_6+x_8_3_6+x_8_4_6+x_8_5_6+x_8_6_6+x_8_7_6+x_8_8_6+x_8_9_6,EQ,1),\n",
       " docplex.mp.LinearConstraint[](x_8_1_7+x_8_2_7+x_8_3_7+x_8_4_7+x_8_5_7+x_8_6_7+x_8_7_7+x_8_8_7+x_8_9_7,EQ,1),\n",
       " docplex.mp.LinearConstraint[](x_8_1_8+x_8_2_8+x_8_3_8+x_8_4_8+x_8_5_8+x_8_6_8+x_8_7_8+x_8_8_8+x_8_9_8,EQ,1),\n",
       " docplex.mp.LinearConstraint[](x_8_1_9+x_8_2_9+x_8_3_9+x_8_4_9+x_8_5_9+x_8_6_9+x_8_7_9+x_8_8_9+x_8_9_9,EQ,1),\n",
       " docplex.mp.LinearConstraint[](x_9_1_1+x_9_2_1+x_9_3_1+x_9_4_1+x_9_5_1+x_9_6_1+x_9_7_1+x_9_8_1+x_9_9_1,EQ,1),\n",
       " docplex.mp.LinearConstraint[](x_9_1_2+x_9_2_2+x_9_3_2+x_9_4_2+x_9_5_2+x_9_6_2+x_9_7_2+x_9_8_2+x_9_9_2,EQ,1),\n",
       " docplex.mp.LinearConstraint[](x_9_1_3+x_9_2_3+x_9_3_3+x_9_4_3+x_9_5_3+x_9_6_3+x_9_7_3+x_9_8_3+x_9_9_3,EQ,1),\n",
       " docplex.mp.LinearConstraint[](x_9_1_4+x_9_2_4+x_9_3_4+x_9_4_4+x_9_5_4+x_9_6_4+x_9_7_4+x_9_8_4+x_9_9_4,EQ,1),\n",
       " docplex.mp.LinearConstraint[](x_9_1_5+x_9_2_5+x_9_3_5+x_9_4_5+x_9_5_5+x_9_6_5+x_9_7_5+x_9_8_5+x_9_9_5,EQ,1),\n",
       " docplex.mp.LinearConstraint[](x_9_1_6+x_9_2_6+x_9_3_6+x_9_4_6+x_9_5_6+x_9_6_6+x_9_7_6+x_9_8_6+x_9_9_6,EQ,1),\n",
       " docplex.mp.LinearConstraint[](x_9_1_7+x_9_2_7+x_9_3_7+x_9_4_7+x_9_5_7+x_9_6_7+x_9_7_7+x_9_8_7+x_9_9_7,EQ,1),\n",
       " docplex.mp.LinearConstraint[](x_9_1_8+x_9_2_8+x_9_3_8+x_9_4_8+x_9_5_8+x_9_6_8+x_9_7_8+x_9_8_8+x_9_9_8,EQ,1),\n",
       " docplex.mp.LinearConstraint[](x_9_1_9+x_9_2_9+x_9_3_9+x_9_4_9+x_9_5_9+x_9_6_9+x_9_7_9+x_9_8_9+x_9_9_9,EQ,1)]"
      ]
     },
     "execution_count": 6,
     "metadata": {},
     "output_type": "execute_result"
    }
   ],
   "source": [
    "sudoku.add_constraints(sudoku.sum(x[(i,j,k)] for j in N) == 1 for i in N for k in N)"
   ]
  },
  {
   "cell_type": "markdown",
   "metadata": {},
   "source": [
    "Each number appears in each column exactly once\n",
    "\n",
    "$\\sum_{i \\in N}x_{ijk} = 1, \\quad \\forall j \\in N, \\space k \\in N$"
   ]
  },
  {
   "cell_type": "code",
   "execution_count": 7,
   "metadata": {},
   "outputs": [
    {
     "data": {
      "text/plain": [
       "[docplex.mp.LinearConstraint[](x_1_1_1+x_2_1_1+x_3_1_1+x_4_1_1+x_5_1_1+x_6_1_1+x_7_1_1+x_8_1_1+x_9_1_1,EQ,1),\n",
       " docplex.mp.LinearConstraint[](x_1_1_2+x_2_1_2+x_3_1_2+x_4_1_2+x_5_1_2+x_6_1_2+x_7_1_2+x_8_1_2+x_9_1_2,EQ,1),\n",
       " docplex.mp.LinearConstraint[](x_1_1_3+x_2_1_3+x_3_1_3+x_4_1_3+x_5_1_3+x_6_1_3+x_7_1_3+x_8_1_3+x_9_1_3,EQ,1),\n",
       " docplex.mp.LinearConstraint[](x_1_1_4+x_2_1_4+x_3_1_4+x_4_1_4+x_5_1_4+x_6_1_4+x_7_1_4+x_8_1_4+x_9_1_4,EQ,1),\n",
       " docplex.mp.LinearConstraint[](x_1_1_5+x_2_1_5+x_3_1_5+x_4_1_5+x_5_1_5+x_6_1_5+x_7_1_5+x_8_1_5+x_9_1_5,EQ,1),\n",
       " docplex.mp.LinearConstraint[](x_1_1_6+x_2_1_6+x_3_1_6+x_4_1_6+x_5_1_6+x_6_1_6+x_7_1_6+x_8_1_6+x_9_1_6,EQ,1),\n",
       " docplex.mp.LinearConstraint[](x_1_1_7+x_2_1_7+x_3_1_7+x_4_1_7+x_5_1_7+x_6_1_7+x_7_1_7+x_8_1_7+x_9_1_7,EQ,1),\n",
       " docplex.mp.LinearConstraint[](x_1_1_8+x_2_1_8+x_3_1_8+x_4_1_8+x_5_1_8+x_6_1_8+x_7_1_8+x_8_1_8+x_9_1_8,EQ,1),\n",
       " docplex.mp.LinearConstraint[](x_1_1_9+x_2_1_9+x_3_1_9+x_4_1_9+x_5_1_9+x_6_1_9+x_7_1_9+x_8_1_9+x_9_1_9,EQ,1),\n",
       " docplex.mp.LinearConstraint[](x_1_2_1+x_2_2_1+x_3_2_1+x_4_2_1+x_5_2_1+x_6_2_1+x_7_2_1+x_8_2_1+x_9_2_1,EQ,1),\n",
       " docplex.mp.LinearConstraint[](x_1_2_2+x_2_2_2+x_3_2_2+x_4_2_2+x_5_2_2+x_6_2_2+x_7_2_2+x_8_2_2+x_9_2_2,EQ,1),\n",
       " docplex.mp.LinearConstraint[](x_1_2_3+x_2_2_3+x_3_2_3+x_4_2_3+x_5_2_3+x_6_2_3+x_7_2_3+x_8_2_3+x_9_2_3,EQ,1),\n",
       " docplex.mp.LinearConstraint[](x_1_2_4+x_2_2_4+x_3_2_4+x_4_2_4+x_5_2_4+x_6_2_4+x_7_2_4+x_8_2_4+x_9_2_4,EQ,1),\n",
       " docplex.mp.LinearConstraint[](x_1_2_5+x_2_2_5+x_3_2_5+x_4_2_5+x_5_2_5+x_6_2_5+x_7_2_5+x_8_2_5+x_9_2_5,EQ,1),\n",
       " docplex.mp.LinearConstraint[](x_1_2_6+x_2_2_6+x_3_2_6+x_4_2_6+x_5_2_6+x_6_2_6+x_7_2_6+x_8_2_6+x_9_2_6,EQ,1),\n",
       " docplex.mp.LinearConstraint[](x_1_2_7+x_2_2_7+x_3_2_7+x_4_2_7+x_5_2_7+x_6_2_7+x_7_2_7+x_8_2_7+x_9_2_7,EQ,1),\n",
       " docplex.mp.LinearConstraint[](x_1_2_8+x_2_2_8+x_3_2_8+x_4_2_8+x_5_2_8+x_6_2_8+x_7_2_8+x_8_2_8+x_9_2_8,EQ,1),\n",
       " docplex.mp.LinearConstraint[](x_1_2_9+x_2_2_9+x_3_2_9+x_4_2_9+x_5_2_9+x_6_2_9+x_7_2_9+x_8_2_9+x_9_2_9,EQ,1),\n",
       " docplex.mp.LinearConstraint[](x_1_3_1+x_2_3_1+x_3_3_1+x_4_3_1+x_5_3_1+x_6_3_1+x_7_3_1+x_8_3_1+x_9_3_1,EQ,1),\n",
       " docplex.mp.LinearConstraint[](x_1_3_2+x_2_3_2+x_3_3_2+x_4_3_2+x_5_3_2+x_6_3_2+x_7_3_2+x_8_3_2+x_9_3_2,EQ,1),\n",
       " docplex.mp.LinearConstraint[](x_1_3_3+x_2_3_3+x_3_3_3+x_4_3_3+x_5_3_3+x_6_3_3+x_7_3_3+x_8_3_3+x_9_3_3,EQ,1),\n",
       " docplex.mp.LinearConstraint[](x_1_3_4+x_2_3_4+x_3_3_4+x_4_3_4+x_5_3_4+x_6_3_4+x_7_3_4+x_8_3_4+x_9_3_4,EQ,1),\n",
       " docplex.mp.LinearConstraint[](x_1_3_5+x_2_3_5+x_3_3_5+x_4_3_5+x_5_3_5+x_6_3_5+x_7_3_5+x_8_3_5+x_9_3_5,EQ,1),\n",
       " docplex.mp.LinearConstraint[](x_1_3_6+x_2_3_6+x_3_3_6+x_4_3_6+x_5_3_6+x_6_3_6+x_7_3_6+x_8_3_6+x_9_3_6,EQ,1),\n",
       " docplex.mp.LinearConstraint[](x_1_3_7+x_2_3_7+x_3_3_7+x_4_3_7+x_5_3_7+x_6_3_7+x_7_3_7+x_8_3_7+x_9_3_7,EQ,1),\n",
       " docplex.mp.LinearConstraint[](x_1_3_8+x_2_3_8+x_3_3_8+x_4_3_8+x_5_3_8+x_6_3_8+x_7_3_8+x_8_3_8+x_9_3_8,EQ,1),\n",
       " docplex.mp.LinearConstraint[](x_1_3_9+x_2_3_9+x_3_3_9+x_4_3_9+x_5_3_9+x_6_3_9+x_7_3_9+x_8_3_9+x_9_3_9,EQ,1),\n",
       " docplex.mp.LinearConstraint[](x_1_4_1+x_2_4_1+x_3_4_1+x_4_4_1+x_5_4_1+x_6_4_1+x_7_4_1+x_8_4_1+x_9_4_1,EQ,1),\n",
       " docplex.mp.LinearConstraint[](x_1_4_2+x_2_4_2+x_3_4_2+x_4_4_2+x_5_4_2+x_6_4_2+x_7_4_2+x_8_4_2+x_9_4_2,EQ,1),\n",
       " docplex.mp.LinearConstraint[](x_1_4_3+x_2_4_3+x_3_4_3+x_4_4_3+x_5_4_3+x_6_4_3+x_7_4_3+x_8_4_3+x_9_4_3,EQ,1),\n",
       " docplex.mp.LinearConstraint[](x_1_4_4+x_2_4_4+x_3_4_4+x_4_4_4+x_5_4_4+x_6_4_4+x_7_4_4+x_8_4_4+x_9_4_4,EQ,1),\n",
       " docplex.mp.LinearConstraint[](x_1_4_5+x_2_4_5+x_3_4_5+x_4_4_5+x_5_4_5+x_6_4_5+x_7_4_5+x_8_4_5+x_9_4_5,EQ,1),\n",
       " docplex.mp.LinearConstraint[](x_1_4_6+x_2_4_6+x_3_4_6+x_4_4_6+x_5_4_6+x_6_4_6+x_7_4_6+x_8_4_6+x_9_4_6,EQ,1),\n",
       " docplex.mp.LinearConstraint[](x_1_4_7+x_2_4_7+x_3_4_7+x_4_4_7+x_5_4_7+x_6_4_7+x_7_4_7+x_8_4_7+x_9_4_7,EQ,1),\n",
       " docplex.mp.LinearConstraint[](x_1_4_8+x_2_4_8+x_3_4_8+x_4_4_8+x_5_4_8+x_6_4_8+x_7_4_8+x_8_4_8+x_9_4_8,EQ,1),\n",
       " docplex.mp.LinearConstraint[](x_1_4_9+x_2_4_9+x_3_4_9+x_4_4_9+x_5_4_9+x_6_4_9+x_7_4_9+x_8_4_9+x_9_4_9,EQ,1),\n",
       " docplex.mp.LinearConstraint[](x_1_5_1+x_2_5_1+x_3_5_1+x_4_5_1+x_5_5_1+x_6_5_1+x_7_5_1+x_8_5_1+x_9_5_1,EQ,1),\n",
       " docplex.mp.LinearConstraint[](x_1_5_2+x_2_5_2+x_3_5_2+x_4_5_2+x_5_5_2+x_6_5_2+x_7_5_2+x_8_5_2+x_9_5_2,EQ,1),\n",
       " docplex.mp.LinearConstraint[](x_1_5_3+x_2_5_3+x_3_5_3+x_4_5_3+x_5_5_3+x_6_5_3+x_7_5_3+x_8_5_3+x_9_5_3,EQ,1),\n",
       " docplex.mp.LinearConstraint[](x_1_5_4+x_2_5_4+x_3_5_4+x_4_5_4+x_5_5_4+x_6_5_4+x_7_5_4+x_8_5_4+x_9_5_4,EQ,1),\n",
       " docplex.mp.LinearConstraint[](x_1_5_5+x_2_5_5+x_3_5_5+x_4_5_5+x_5_5_5+x_6_5_5+x_7_5_5+x_8_5_5+x_9_5_5,EQ,1),\n",
       " docplex.mp.LinearConstraint[](x_1_5_6+x_2_5_6+x_3_5_6+x_4_5_6+x_5_5_6+x_6_5_6+x_7_5_6+x_8_5_6+x_9_5_6,EQ,1),\n",
       " docplex.mp.LinearConstraint[](x_1_5_7+x_2_5_7+x_3_5_7+x_4_5_7+x_5_5_7+x_6_5_7+x_7_5_7+x_8_5_7+x_9_5_7,EQ,1),\n",
       " docplex.mp.LinearConstraint[](x_1_5_8+x_2_5_8+x_3_5_8+x_4_5_8+x_5_5_8+x_6_5_8+x_7_5_8+x_8_5_8+x_9_5_8,EQ,1),\n",
       " docplex.mp.LinearConstraint[](x_1_5_9+x_2_5_9+x_3_5_9+x_4_5_9+x_5_5_9+x_6_5_9+x_7_5_9+x_8_5_9+x_9_5_9,EQ,1),\n",
       " docplex.mp.LinearConstraint[](x_1_6_1+x_2_6_1+x_3_6_1+x_4_6_1+x_5_6_1+x_6_6_1+x_7_6_1+x_8_6_1+x_9_6_1,EQ,1),\n",
       " docplex.mp.LinearConstraint[](x_1_6_2+x_2_6_2+x_3_6_2+x_4_6_2+x_5_6_2+x_6_6_2+x_7_6_2+x_8_6_2+x_9_6_2,EQ,1),\n",
       " docplex.mp.LinearConstraint[](x_1_6_3+x_2_6_3+x_3_6_3+x_4_6_3+x_5_6_3+x_6_6_3+x_7_6_3+x_8_6_3+x_9_6_3,EQ,1),\n",
       " docplex.mp.LinearConstraint[](x_1_6_4+x_2_6_4+x_3_6_4+x_4_6_4+x_5_6_4+x_6_6_4+x_7_6_4+x_8_6_4+x_9_6_4,EQ,1),\n",
       " docplex.mp.LinearConstraint[](x_1_6_5+x_2_6_5+x_3_6_5+x_4_6_5+x_5_6_5+x_6_6_5+x_7_6_5+x_8_6_5+x_9_6_5,EQ,1),\n",
       " docplex.mp.LinearConstraint[](x_1_6_6+x_2_6_6+x_3_6_6+x_4_6_6+x_5_6_6+x_6_6_6+x_7_6_6+x_8_6_6+x_9_6_6,EQ,1),\n",
       " docplex.mp.LinearConstraint[](x_1_6_7+x_2_6_7+x_3_6_7+x_4_6_7+x_5_6_7+x_6_6_7+x_7_6_7+x_8_6_7+x_9_6_7,EQ,1),\n",
       " docplex.mp.LinearConstraint[](x_1_6_8+x_2_6_8+x_3_6_8+x_4_6_8+x_5_6_8+x_6_6_8+x_7_6_8+x_8_6_8+x_9_6_8,EQ,1),\n",
       " docplex.mp.LinearConstraint[](x_1_6_9+x_2_6_9+x_3_6_9+x_4_6_9+x_5_6_9+x_6_6_9+x_7_6_9+x_8_6_9+x_9_6_9,EQ,1),\n",
       " docplex.mp.LinearConstraint[](x_1_7_1+x_2_7_1+x_3_7_1+x_4_7_1+x_5_7_1+x_6_7_1+x_7_7_1+x_8_7_1+x_9_7_1,EQ,1),\n",
       " docplex.mp.LinearConstraint[](x_1_7_2+x_2_7_2+x_3_7_2+x_4_7_2+x_5_7_2+x_6_7_2+x_7_7_2+x_8_7_2+x_9_7_2,EQ,1),\n",
       " docplex.mp.LinearConstraint[](x_1_7_3+x_2_7_3+x_3_7_3+x_4_7_3+x_5_7_3+x_6_7_3+x_7_7_3+x_8_7_3+x_9_7_3,EQ,1),\n",
       " docplex.mp.LinearConstraint[](x_1_7_4+x_2_7_4+x_3_7_4+x_4_7_4+x_5_7_4+x_6_7_4+x_7_7_4+x_8_7_4+x_9_7_4,EQ,1),\n",
       " docplex.mp.LinearConstraint[](x_1_7_5+x_2_7_5+x_3_7_5+x_4_7_5+x_5_7_5+x_6_7_5+x_7_7_5+x_8_7_5+x_9_7_5,EQ,1),\n",
       " docplex.mp.LinearConstraint[](x_1_7_6+x_2_7_6+x_3_7_6+x_4_7_6+x_5_7_6+x_6_7_6+x_7_7_6+x_8_7_6+x_9_7_6,EQ,1),\n",
       " docplex.mp.LinearConstraint[](x_1_7_7+x_2_7_7+x_3_7_7+x_4_7_7+x_5_7_7+x_6_7_7+x_7_7_7+x_8_7_7+x_9_7_7,EQ,1),\n",
       " docplex.mp.LinearConstraint[](x_1_7_8+x_2_7_8+x_3_7_8+x_4_7_8+x_5_7_8+x_6_7_8+x_7_7_8+x_8_7_8+x_9_7_8,EQ,1),\n",
       " docplex.mp.LinearConstraint[](x_1_7_9+x_2_7_9+x_3_7_9+x_4_7_9+x_5_7_9+x_6_7_9+x_7_7_9+x_8_7_9+x_9_7_9,EQ,1),\n",
       " docplex.mp.LinearConstraint[](x_1_8_1+x_2_8_1+x_3_8_1+x_4_8_1+x_5_8_1+x_6_8_1+x_7_8_1+x_8_8_1+x_9_8_1,EQ,1),\n",
       " docplex.mp.LinearConstraint[](x_1_8_2+x_2_8_2+x_3_8_2+x_4_8_2+x_5_8_2+x_6_8_2+x_7_8_2+x_8_8_2+x_9_8_2,EQ,1),\n",
       " docplex.mp.LinearConstraint[](x_1_8_3+x_2_8_3+x_3_8_3+x_4_8_3+x_5_8_3+x_6_8_3+x_7_8_3+x_8_8_3+x_9_8_3,EQ,1),\n",
       " docplex.mp.LinearConstraint[](x_1_8_4+x_2_8_4+x_3_8_4+x_4_8_4+x_5_8_4+x_6_8_4+x_7_8_4+x_8_8_4+x_9_8_4,EQ,1),\n",
       " docplex.mp.LinearConstraint[](x_1_8_5+x_2_8_5+x_3_8_5+x_4_8_5+x_5_8_5+x_6_8_5+x_7_8_5+x_8_8_5+x_9_8_5,EQ,1),\n",
       " docplex.mp.LinearConstraint[](x_1_8_6+x_2_8_6+x_3_8_6+x_4_8_6+x_5_8_6+x_6_8_6+x_7_8_6+x_8_8_6+x_9_8_6,EQ,1),\n",
       " docplex.mp.LinearConstraint[](x_1_8_7+x_2_8_7+x_3_8_7+x_4_8_7+x_5_8_7+x_6_8_7+x_7_8_7+x_8_8_7+x_9_8_7,EQ,1),\n",
       " docplex.mp.LinearConstraint[](x_1_8_8+x_2_8_8+x_3_8_8+x_4_8_8+x_5_8_8+x_6_8_8+x_7_8_8+x_8_8_8+x_9_8_8,EQ,1),\n",
       " docplex.mp.LinearConstraint[](x_1_8_9+x_2_8_9+x_3_8_9+x_4_8_9+x_5_8_9+x_6_8_9+x_7_8_9+x_8_8_9+x_9_8_9,EQ,1),\n",
       " docplex.mp.LinearConstraint[](x_1_9_1+x_2_9_1+x_3_9_1+x_4_9_1+x_5_9_1+x_6_9_1+x_7_9_1+x_8_9_1+x_9_9_1,EQ,1),\n",
       " docplex.mp.LinearConstraint[](x_1_9_2+x_2_9_2+x_3_9_2+x_4_9_2+x_5_9_2+x_6_9_2+x_7_9_2+x_8_9_2+x_9_9_2,EQ,1),\n",
       " docplex.mp.LinearConstraint[](x_1_9_3+x_2_9_3+x_3_9_3+x_4_9_3+x_5_9_3+x_6_9_3+x_7_9_3+x_8_9_3+x_9_9_3,EQ,1),\n",
       " docplex.mp.LinearConstraint[](x_1_9_4+x_2_9_4+x_3_9_4+x_4_9_4+x_5_9_4+x_6_9_4+x_7_9_4+x_8_9_4+x_9_9_4,EQ,1),\n",
       " docplex.mp.LinearConstraint[](x_1_9_5+x_2_9_5+x_3_9_5+x_4_9_5+x_5_9_5+x_6_9_5+x_7_9_5+x_8_9_5+x_9_9_5,EQ,1),\n",
       " docplex.mp.LinearConstraint[](x_1_9_6+x_2_9_6+x_3_9_6+x_4_9_6+x_5_9_6+x_6_9_6+x_7_9_6+x_8_9_6+x_9_9_6,EQ,1),\n",
       " docplex.mp.LinearConstraint[](x_1_9_7+x_2_9_7+x_3_9_7+x_4_9_7+x_5_9_7+x_6_9_7+x_7_9_7+x_8_9_7+x_9_9_7,EQ,1),\n",
       " docplex.mp.LinearConstraint[](x_1_9_8+x_2_9_8+x_3_9_8+x_4_9_8+x_5_9_8+x_6_9_8+x_7_9_8+x_8_9_8+x_9_9_8,EQ,1),\n",
       " docplex.mp.LinearConstraint[](x_1_9_9+x_2_9_9+x_3_9_9+x_4_9_9+x_5_9_9+x_6_9_9+x_7_9_9+x_8_9_9+x_9_9_9,EQ,1)]"
      ]
     },
     "execution_count": 7,
     "metadata": {},
     "output_type": "execute_result"
    }
   ],
   "source": [
    "sudoku.add_constraints(sudoku.sum(x[(i,j,k)] for i in N) == 1 for j in N for k in N)"
   ]
  },
  {
   "cell_type": "markdown",
   "metadata": {},
   "source": [
    "Each cell (row,column) has exactly one number\n",
    "\n",
    "$\\sum_{k \\in N}x_{ijk} = 1, \\quad \\forall i \\in N, \\space j \\in N$"
   ]
  },
  {
   "cell_type": "code",
   "execution_count": 8,
   "metadata": {},
   "outputs": [
    {
     "data": {
      "text/plain": [
       "[docplex.mp.LinearConstraint[](x_1_1_1+x_1_1_2+x_1_1_3+x_1_1_4+x_1_1_5+x_1_1_6+x_1_1_7+x_1_1_8+x_1_1_9,EQ,1),\n",
       " docplex.mp.LinearConstraint[](x_1_2_1+x_1_2_2+x_1_2_3+x_1_2_4+x_1_2_5+x_1_2_6+x_1_2_7+x_1_2_8+x_1_2_9,EQ,1),\n",
       " docplex.mp.LinearConstraint[](x_1_3_1+x_1_3_2+x_1_3_3+x_1_3_4+x_1_3_5+x_1_3_6+x_1_3_7+x_1_3_8+x_1_3_9,EQ,1),\n",
       " docplex.mp.LinearConstraint[](x_1_4_1+x_1_4_2+x_1_4_3+x_1_4_4+x_1_4_5+x_1_4_6+x_1_4_7+x_1_4_8+x_1_4_9,EQ,1),\n",
       " docplex.mp.LinearConstraint[](x_1_5_1+x_1_5_2+x_1_5_3+x_1_5_4+x_1_5_5+x_1_5_6+x_1_5_7+x_1_5_8+x_1_5_9,EQ,1),\n",
       " docplex.mp.LinearConstraint[](x_1_6_1+x_1_6_2+x_1_6_3+x_1_6_4+x_1_6_5+x_1_6_6+x_1_6_7+x_1_6_8+x_1_6_9,EQ,1),\n",
       " docplex.mp.LinearConstraint[](x_1_7_1+x_1_7_2+x_1_7_3+x_1_7_4+x_1_7_5+x_1_7_6+x_1_7_7+x_1_7_8+x_1_7_9,EQ,1),\n",
       " docplex.mp.LinearConstraint[](x_1_8_1+x_1_8_2+x_1_8_3+x_1_8_4+x_1_8_5+x_1_8_6+x_1_8_7+x_1_8_8+x_1_8_9,EQ,1),\n",
       " docplex.mp.LinearConstraint[](x_1_9_1+x_1_9_2+x_1_9_3+x_1_9_4+x_1_9_5+x_1_9_6+x_1_9_7+x_1_9_8+x_1_9_9,EQ,1),\n",
       " docplex.mp.LinearConstraint[](x_2_1_1+x_2_1_2+x_2_1_3+x_2_1_4+x_2_1_5+x_2_1_6+x_2_1_7+x_2_1_8+x_2_1_9,EQ,1),\n",
       " docplex.mp.LinearConstraint[](x_2_2_1+x_2_2_2+x_2_2_3+x_2_2_4+x_2_2_5+x_2_2_6+x_2_2_7+x_2_2_8+x_2_2_9,EQ,1),\n",
       " docplex.mp.LinearConstraint[](x_2_3_1+x_2_3_2+x_2_3_3+x_2_3_4+x_2_3_5+x_2_3_6+x_2_3_7+x_2_3_8+x_2_3_9,EQ,1),\n",
       " docplex.mp.LinearConstraint[](x_2_4_1+x_2_4_2+x_2_4_3+x_2_4_4+x_2_4_5+x_2_4_6+x_2_4_7+x_2_4_8+x_2_4_9,EQ,1),\n",
       " docplex.mp.LinearConstraint[](x_2_5_1+x_2_5_2+x_2_5_3+x_2_5_4+x_2_5_5+x_2_5_6+x_2_5_7+x_2_5_8+x_2_5_9,EQ,1),\n",
       " docplex.mp.LinearConstraint[](x_2_6_1+x_2_6_2+x_2_6_3+x_2_6_4+x_2_6_5+x_2_6_6+x_2_6_7+x_2_6_8+x_2_6_9,EQ,1),\n",
       " docplex.mp.LinearConstraint[](x_2_7_1+x_2_7_2+x_2_7_3+x_2_7_4+x_2_7_5+x_2_7_6+x_2_7_7+x_2_7_8+x_2_7_9,EQ,1),\n",
       " docplex.mp.LinearConstraint[](x_2_8_1+x_2_8_2+x_2_8_3+x_2_8_4+x_2_8_5+x_2_8_6+x_2_8_7+x_2_8_8+x_2_8_9,EQ,1),\n",
       " docplex.mp.LinearConstraint[](x_2_9_1+x_2_9_2+x_2_9_3+x_2_9_4+x_2_9_5+x_2_9_6+x_2_9_7+x_2_9_8+x_2_9_9,EQ,1),\n",
       " docplex.mp.LinearConstraint[](x_3_1_1+x_3_1_2+x_3_1_3+x_3_1_4+x_3_1_5+x_3_1_6+x_3_1_7+x_3_1_8+x_3_1_9,EQ,1),\n",
       " docplex.mp.LinearConstraint[](x_3_2_1+x_3_2_2+x_3_2_3+x_3_2_4+x_3_2_5+x_3_2_6+x_3_2_7+x_3_2_8+x_3_2_9,EQ,1),\n",
       " docplex.mp.LinearConstraint[](x_3_3_1+x_3_3_2+x_3_3_3+x_3_3_4+x_3_3_5+x_3_3_6+x_3_3_7+x_3_3_8+x_3_3_9,EQ,1),\n",
       " docplex.mp.LinearConstraint[](x_3_4_1+x_3_4_2+x_3_4_3+x_3_4_4+x_3_4_5+x_3_4_6+x_3_4_7+x_3_4_8+x_3_4_9,EQ,1),\n",
       " docplex.mp.LinearConstraint[](x_3_5_1+x_3_5_2+x_3_5_3+x_3_5_4+x_3_5_5+x_3_5_6+x_3_5_7+x_3_5_8+x_3_5_9,EQ,1),\n",
       " docplex.mp.LinearConstraint[](x_3_6_1+x_3_6_2+x_3_6_3+x_3_6_4+x_3_6_5+x_3_6_6+x_3_6_7+x_3_6_8+x_3_6_9,EQ,1),\n",
       " docplex.mp.LinearConstraint[](x_3_7_1+x_3_7_2+x_3_7_3+x_3_7_4+x_3_7_5+x_3_7_6+x_3_7_7+x_3_7_8+x_3_7_9,EQ,1),\n",
       " docplex.mp.LinearConstraint[](x_3_8_1+x_3_8_2+x_3_8_3+x_3_8_4+x_3_8_5+x_3_8_6+x_3_8_7+x_3_8_8+x_3_8_9,EQ,1),\n",
       " docplex.mp.LinearConstraint[](x_3_9_1+x_3_9_2+x_3_9_3+x_3_9_4+x_3_9_5+x_3_9_6+x_3_9_7+x_3_9_8+x_3_9_9,EQ,1),\n",
       " docplex.mp.LinearConstraint[](x_4_1_1+x_4_1_2+x_4_1_3+x_4_1_4+x_4_1_5+x_4_1_6+x_4_1_7+x_4_1_8+x_4_1_9,EQ,1),\n",
       " docplex.mp.LinearConstraint[](x_4_2_1+x_4_2_2+x_4_2_3+x_4_2_4+x_4_2_5+x_4_2_6+x_4_2_7+x_4_2_8+x_4_2_9,EQ,1),\n",
       " docplex.mp.LinearConstraint[](x_4_3_1+x_4_3_2+x_4_3_3+x_4_3_4+x_4_3_5+x_4_3_6+x_4_3_7+x_4_3_8+x_4_3_9,EQ,1),\n",
       " docplex.mp.LinearConstraint[](x_4_4_1+x_4_4_2+x_4_4_3+x_4_4_4+x_4_4_5+x_4_4_6+x_4_4_7+x_4_4_8+x_4_4_9,EQ,1),\n",
       " docplex.mp.LinearConstraint[](x_4_5_1+x_4_5_2+x_4_5_3+x_4_5_4+x_4_5_5+x_4_5_6+x_4_5_7+x_4_5_8+x_4_5_9,EQ,1),\n",
       " docplex.mp.LinearConstraint[](x_4_6_1+x_4_6_2+x_4_6_3+x_4_6_4+x_4_6_5+x_4_6_6+x_4_6_7+x_4_6_8+x_4_6_9,EQ,1),\n",
       " docplex.mp.LinearConstraint[](x_4_7_1+x_4_7_2+x_4_7_3+x_4_7_4+x_4_7_5+x_4_7_6+x_4_7_7+x_4_7_8+x_4_7_9,EQ,1),\n",
       " docplex.mp.LinearConstraint[](x_4_8_1+x_4_8_2+x_4_8_3+x_4_8_4+x_4_8_5+x_4_8_6+x_4_8_7+x_4_8_8+x_4_8_9,EQ,1),\n",
       " docplex.mp.LinearConstraint[](x_4_9_1+x_4_9_2+x_4_9_3+x_4_9_4+x_4_9_5+x_4_9_6+x_4_9_7+x_4_9_8+x_4_9_9,EQ,1),\n",
       " docplex.mp.LinearConstraint[](x_5_1_1+x_5_1_2+x_5_1_3+x_5_1_4+x_5_1_5+x_5_1_6+x_5_1_7+x_5_1_8+x_5_1_9,EQ,1),\n",
       " docplex.mp.LinearConstraint[](x_5_2_1+x_5_2_2+x_5_2_3+x_5_2_4+x_5_2_5+x_5_2_6+x_5_2_7+x_5_2_8+x_5_2_9,EQ,1),\n",
       " docplex.mp.LinearConstraint[](x_5_3_1+x_5_3_2+x_5_3_3+x_5_3_4+x_5_3_5+x_5_3_6+x_5_3_7+x_5_3_8+x_5_3_9,EQ,1),\n",
       " docplex.mp.LinearConstraint[](x_5_4_1+x_5_4_2+x_5_4_3+x_5_4_4+x_5_4_5+x_5_4_6+x_5_4_7+x_5_4_8+x_5_4_9,EQ,1),\n",
       " docplex.mp.LinearConstraint[](x_5_5_1+x_5_5_2+x_5_5_3+x_5_5_4+x_5_5_5+x_5_5_6+x_5_5_7+x_5_5_8+x_5_5_9,EQ,1),\n",
       " docplex.mp.LinearConstraint[](x_5_6_1+x_5_6_2+x_5_6_3+x_5_6_4+x_5_6_5+x_5_6_6+x_5_6_7+x_5_6_8+x_5_6_9,EQ,1),\n",
       " docplex.mp.LinearConstraint[](x_5_7_1+x_5_7_2+x_5_7_3+x_5_7_4+x_5_7_5+x_5_7_6+x_5_7_7+x_5_7_8+x_5_7_9,EQ,1),\n",
       " docplex.mp.LinearConstraint[](x_5_8_1+x_5_8_2+x_5_8_3+x_5_8_4+x_5_8_5+x_5_8_6+x_5_8_7+x_5_8_8+x_5_8_9,EQ,1),\n",
       " docplex.mp.LinearConstraint[](x_5_9_1+x_5_9_2+x_5_9_3+x_5_9_4+x_5_9_5+x_5_9_6+x_5_9_7+x_5_9_8+x_5_9_9,EQ,1),\n",
       " docplex.mp.LinearConstraint[](x_6_1_1+x_6_1_2+x_6_1_3+x_6_1_4+x_6_1_5+x_6_1_6+x_6_1_7+x_6_1_8+x_6_1_9,EQ,1),\n",
       " docplex.mp.LinearConstraint[](x_6_2_1+x_6_2_2+x_6_2_3+x_6_2_4+x_6_2_5+x_6_2_6+x_6_2_7+x_6_2_8+x_6_2_9,EQ,1),\n",
       " docplex.mp.LinearConstraint[](x_6_3_1+x_6_3_2+x_6_3_3+x_6_3_4+x_6_3_5+x_6_3_6+x_6_3_7+x_6_3_8+x_6_3_9,EQ,1),\n",
       " docplex.mp.LinearConstraint[](x_6_4_1+x_6_4_2+x_6_4_3+x_6_4_4+x_6_4_5+x_6_4_6+x_6_4_7+x_6_4_8+x_6_4_9,EQ,1),\n",
       " docplex.mp.LinearConstraint[](x_6_5_1+x_6_5_2+x_6_5_3+x_6_5_4+x_6_5_5+x_6_5_6+x_6_5_7+x_6_5_8+x_6_5_9,EQ,1),\n",
       " docplex.mp.LinearConstraint[](x_6_6_1+x_6_6_2+x_6_6_3+x_6_6_4+x_6_6_5+x_6_6_6+x_6_6_7+x_6_6_8+x_6_6_9,EQ,1),\n",
       " docplex.mp.LinearConstraint[](x_6_7_1+x_6_7_2+x_6_7_3+x_6_7_4+x_6_7_5+x_6_7_6+x_6_7_7+x_6_7_8+x_6_7_9,EQ,1),\n",
       " docplex.mp.LinearConstraint[](x_6_8_1+x_6_8_2+x_6_8_3+x_6_8_4+x_6_8_5+x_6_8_6+x_6_8_7+x_6_8_8+x_6_8_9,EQ,1),\n",
       " docplex.mp.LinearConstraint[](x_6_9_1+x_6_9_2+x_6_9_3+x_6_9_4+x_6_9_5+x_6_9_6+x_6_9_7+x_6_9_8+x_6_9_9,EQ,1),\n",
       " docplex.mp.LinearConstraint[](x_7_1_1+x_7_1_2+x_7_1_3+x_7_1_4+x_7_1_5+x_7_1_6+x_7_1_7+x_7_1_8+x_7_1_9,EQ,1),\n",
       " docplex.mp.LinearConstraint[](x_7_2_1+x_7_2_2+x_7_2_3+x_7_2_4+x_7_2_5+x_7_2_6+x_7_2_7+x_7_2_8+x_7_2_9,EQ,1),\n",
       " docplex.mp.LinearConstraint[](x_7_3_1+x_7_3_2+x_7_3_3+x_7_3_4+x_7_3_5+x_7_3_6+x_7_3_7+x_7_3_8+x_7_3_9,EQ,1),\n",
       " docplex.mp.LinearConstraint[](x_7_4_1+x_7_4_2+x_7_4_3+x_7_4_4+x_7_4_5+x_7_4_6+x_7_4_7+x_7_4_8+x_7_4_9,EQ,1),\n",
       " docplex.mp.LinearConstraint[](x_7_5_1+x_7_5_2+x_7_5_3+x_7_5_4+x_7_5_5+x_7_5_6+x_7_5_7+x_7_5_8+x_7_5_9,EQ,1),\n",
       " docplex.mp.LinearConstraint[](x_7_6_1+x_7_6_2+x_7_6_3+x_7_6_4+x_7_6_5+x_7_6_6+x_7_6_7+x_7_6_8+x_7_6_9,EQ,1),\n",
       " docplex.mp.LinearConstraint[](x_7_7_1+x_7_7_2+x_7_7_3+x_7_7_4+x_7_7_5+x_7_7_6+x_7_7_7+x_7_7_8+x_7_7_9,EQ,1),\n",
       " docplex.mp.LinearConstraint[](x_7_8_1+x_7_8_2+x_7_8_3+x_7_8_4+x_7_8_5+x_7_8_6+x_7_8_7+x_7_8_8+x_7_8_9,EQ,1),\n",
       " docplex.mp.LinearConstraint[](x_7_9_1+x_7_9_2+x_7_9_3+x_7_9_4+x_7_9_5+x_7_9_6+x_7_9_7+x_7_9_8+x_7_9_9,EQ,1),\n",
       " docplex.mp.LinearConstraint[](x_8_1_1+x_8_1_2+x_8_1_3+x_8_1_4+x_8_1_5+x_8_1_6+x_8_1_7+x_8_1_8+x_8_1_9,EQ,1),\n",
       " docplex.mp.LinearConstraint[](x_8_2_1+x_8_2_2+x_8_2_3+x_8_2_4+x_8_2_5+x_8_2_6+x_8_2_7+x_8_2_8+x_8_2_9,EQ,1),\n",
       " docplex.mp.LinearConstraint[](x_8_3_1+x_8_3_2+x_8_3_3+x_8_3_4+x_8_3_5+x_8_3_6+x_8_3_7+x_8_3_8+x_8_3_9,EQ,1),\n",
       " docplex.mp.LinearConstraint[](x_8_4_1+x_8_4_2+x_8_4_3+x_8_4_4+x_8_4_5+x_8_4_6+x_8_4_7+x_8_4_8+x_8_4_9,EQ,1),\n",
       " docplex.mp.LinearConstraint[](x_8_5_1+x_8_5_2+x_8_5_3+x_8_5_4+x_8_5_5+x_8_5_6+x_8_5_7+x_8_5_8+x_8_5_9,EQ,1),\n",
       " docplex.mp.LinearConstraint[](x_8_6_1+x_8_6_2+x_8_6_3+x_8_6_4+x_8_6_5+x_8_6_6+x_8_6_7+x_8_6_8+x_8_6_9,EQ,1),\n",
       " docplex.mp.LinearConstraint[](x_8_7_1+x_8_7_2+x_8_7_3+x_8_7_4+x_8_7_5+x_8_7_6+x_8_7_7+x_8_7_8+x_8_7_9,EQ,1),\n",
       " docplex.mp.LinearConstraint[](x_8_8_1+x_8_8_2+x_8_8_3+x_8_8_4+x_8_8_5+x_8_8_6+x_8_8_7+x_8_8_8+x_8_8_9,EQ,1),\n",
       " docplex.mp.LinearConstraint[](x_8_9_1+x_8_9_2+x_8_9_3+x_8_9_4+x_8_9_5+x_8_9_6+x_8_9_7+x_8_9_8+x_8_9_9,EQ,1),\n",
       " docplex.mp.LinearConstraint[](x_9_1_1+x_9_1_2+x_9_1_3+x_9_1_4+x_9_1_5+x_9_1_6+x_9_1_7+x_9_1_8+x_9_1_9,EQ,1),\n",
       " docplex.mp.LinearConstraint[](x_9_2_1+x_9_2_2+x_9_2_3+x_9_2_4+x_9_2_5+x_9_2_6+x_9_2_7+x_9_2_8+x_9_2_9,EQ,1),\n",
       " docplex.mp.LinearConstraint[](x_9_3_1+x_9_3_2+x_9_3_3+x_9_3_4+x_9_3_5+x_9_3_6+x_9_3_7+x_9_3_8+x_9_3_9,EQ,1),\n",
       " docplex.mp.LinearConstraint[](x_9_4_1+x_9_4_2+x_9_4_3+x_9_4_4+x_9_4_5+x_9_4_6+x_9_4_7+x_9_4_8+x_9_4_9,EQ,1),\n",
       " docplex.mp.LinearConstraint[](x_9_5_1+x_9_5_2+x_9_5_3+x_9_5_4+x_9_5_5+x_9_5_6+x_9_5_7+x_9_5_8+x_9_5_9,EQ,1),\n",
       " docplex.mp.LinearConstraint[](x_9_6_1+x_9_6_2+x_9_6_3+x_9_6_4+x_9_6_5+x_9_6_6+x_9_6_7+x_9_6_8+x_9_6_9,EQ,1),\n",
       " docplex.mp.LinearConstraint[](x_9_7_1+x_9_7_2+x_9_7_3+x_9_7_4+x_9_7_5+x_9_7_6+x_9_7_7+x_9_7_8+x_9_7_9,EQ,1),\n",
       " docplex.mp.LinearConstraint[](x_9_8_1+x_9_8_2+x_9_8_3+x_9_8_4+x_9_8_5+x_9_8_6+x_9_8_7+x_9_8_8+x_9_8_9,EQ,1),\n",
       " docplex.mp.LinearConstraint[](x_9_9_1+x_9_9_2+x_9_9_3+x_9_9_4+x_9_9_5+x_9_9_6+x_9_9_7+x_9_9_8+x_9_9_9,EQ,1)]"
      ]
     },
     "execution_count": 8,
     "metadata": {},
     "output_type": "execute_result"
    }
   ],
   "source": [
    "sudoku.add_constraints(sudoku.sum(x[(i,j,k)] for k in N) == 1 for i in N for j in N)"
   ]
  },
  {
   "cell_type": "markdown",
   "metadata": {},
   "source": [
    "Each number appears exactly once in each box"
   ]
  },
  {
   "cell_type": "markdown",
   "metadata": {},
   "source": [
    "$\\sum_{i=1}^3\\sum_{j=1}^3 x_{(i+a)(j+b)k}=1, \\quad \\forall a,b \\in \\{0,3,6\\}$"
   ]
  },
  {
   "cell_type": "code",
   "execution_count": 9,
   "metadata": {},
   "outputs": [],
   "source": [
    "a_b_set = [0,3,6]"
   ]
  },
  {
   "cell_type": "code",
   "execution_count": 10,
   "metadata": {},
   "outputs": [
    {
     "data": {
      "text/plain": [
       "[1, 2, 3]"
      ]
     },
     "execution_count": 10,
     "metadata": {},
     "output_type": "execute_result"
    }
   ],
   "source": [
    "N[:3]"
   ]
  },
  {
   "cell_type": "code",
   "execution_count": 11,
   "metadata": {},
   "outputs": [
    {
     "data": {
      "text/plain": [
       "[docplex.mp.LinearConstraint[](x_1_1_1+x_1_2_1+x_1_3_1+x_2_1_1+x_2_2_1+x_2_3_1+x_3_1_1+x_3_2_1+x_3_3_1,EQ,1),\n",
       " docplex.mp.LinearConstraint[](x_1_1_2+x_1_2_2+x_1_3_2+x_2_1_2+x_2_2_2+x_2_3_2+x_3_1_2+x_3_2_2+x_3_3_2,EQ,1),\n",
       " docplex.mp.LinearConstraint[](x_1_1_3+x_1_2_3+x_1_3_3+x_2_1_3+x_2_2_3+x_2_3_3+x_3_1_3+x_3_2_3+x_3_3_3,EQ,1),\n",
       " docplex.mp.LinearConstraint[](x_1_1_4+x_1_2_4+x_1_3_4+x_2_1_4+x_2_2_4+x_2_3_4+x_3_1_4+x_3_2_4+x_3_3_4,EQ,1),\n",
       " docplex.mp.LinearConstraint[](x_1_1_5+x_1_2_5+x_1_3_5+x_2_1_5+x_2_2_5+x_2_3_5+x_3_1_5+x_3_2_5+x_3_3_5,EQ,1),\n",
       " docplex.mp.LinearConstraint[](x_1_1_6+x_1_2_6+x_1_3_6+x_2_1_6+x_2_2_6+x_2_3_6+x_3_1_6+x_3_2_6+x_3_3_6,EQ,1),\n",
       " docplex.mp.LinearConstraint[](x_1_1_7+x_1_2_7+x_1_3_7+x_2_1_7+x_2_2_7+x_2_3_7+x_3_1_7+x_3_2_7+x_3_3_7,EQ,1),\n",
       " docplex.mp.LinearConstraint[](x_1_1_8+x_1_2_8+x_1_3_8+x_2_1_8+x_2_2_8+x_2_3_8+x_3_1_8+x_3_2_8+x_3_3_8,EQ,1),\n",
       " docplex.mp.LinearConstraint[](x_1_1_9+x_1_2_9+x_1_3_9+x_2_1_9+x_2_2_9+x_2_3_9+x_3_1_9+x_3_2_9+x_3_3_9,EQ,1),\n",
       " docplex.mp.LinearConstraint[](x_1_4_1+x_1_5_1+x_1_6_1+x_2_4_1+x_2_5_1+x_2_6_1+x_3_4_1+x_3_5_1+x_3_6_1,EQ,1),\n",
       " docplex.mp.LinearConstraint[](x_1_4_2+x_1_5_2+x_1_6_2+x_2_4_2+x_2_5_2+x_2_6_2+x_3_4_2+x_3_5_2+x_3_6_2,EQ,1),\n",
       " docplex.mp.LinearConstraint[](x_1_4_3+x_1_5_3+x_1_6_3+x_2_4_3+x_2_5_3+x_2_6_3+x_3_4_3+x_3_5_3+x_3_6_3,EQ,1),\n",
       " docplex.mp.LinearConstraint[](x_1_4_4+x_1_5_4+x_1_6_4+x_2_4_4+x_2_5_4+x_2_6_4+x_3_4_4+x_3_5_4+x_3_6_4,EQ,1),\n",
       " docplex.mp.LinearConstraint[](x_1_4_5+x_1_5_5+x_1_6_5+x_2_4_5+x_2_5_5+x_2_6_5+x_3_4_5+x_3_5_5+x_3_6_5,EQ,1),\n",
       " docplex.mp.LinearConstraint[](x_1_4_6+x_1_5_6+x_1_6_6+x_2_4_6+x_2_5_6+x_2_6_6+x_3_4_6+x_3_5_6+x_3_6_6,EQ,1),\n",
       " docplex.mp.LinearConstraint[](x_1_4_7+x_1_5_7+x_1_6_7+x_2_4_7+x_2_5_7+x_2_6_7+x_3_4_7+x_3_5_7+x_3_6_7,EQ,1),\n",
       " docplex.mp.LinearConstraint[](x_1_4_8+x_1_5_8+x_1_6_8+x_2_4_8+x_2_5_8+x_2_6_8+x_3_4_8+x_3_5_8+x_3_6_8,EQ,1),\n",
       " docplex.mp.LinearConstraint[](x_1_4_9+x_1_5_9+x_1_6_9+x_2_4_9+x_2_5_9+x_2_6_9+x_3_4_9+x_3_5_9+x_3_6_9,EQ,1),\n",
       " docplex.mp.LinearConstraint[](x_1_7_1+x_1_8_1+x_1_9_1+x_2_7_1+x_2_8_1+x_2_9_1+x_3_7_1+x_3_8_1+x_3_9_1,EQ,1),\n",
       " docplex.mp.LinearConstraint[](x_1_7_2+x_1_8_2+x_1_9_2+x_2_7_2+x_2_8_2+x_2_9_2+x_3_7_2+x_3_8_2+x_3_9_2,EQ,1),\n",
       " docplex.mp.LinearConstraint[](x_1_7_3+x_1_8_3+x_1_9_3+x_2_7_3+x_2_8_3+x_2_9_3+x_3_7_3+x_3_8_3+x_3_9_3,EQ,1),\n",
       " docplex.mp.LinearConstraint[](x_1_7_4+x_1_8_4+x_1_9_4+x_2_7_4+x_2_8_4+x_2_9_4+x_3_7_4+x_3_8_4+x_3_9_4,EQ,1),\n",
       " docplex.mp.LinearConstraint[](x_1_7_5+x_1_8_5+x_1_9_5+x_2_7_5+x_2_8_5+x_2_9_5+x_3_7_5+x_3_8_5+x_3_9_5,EQ,1),\n",
       " docplex.mp.LinearConstraint[](x_1_7_6+x_1_8_6+x_1_9_6+x_2_7_6+x_2_8_6+x_2_9_6+x_3_7_6+x_3_8_6+x_3_9_6,EQ,1),\n",
       " docplex.mp.LinearConstraint[](x_1_7_7+x_1_8_7+x_1_9_7+x_2_7_7+x_2_8_7+x_2_9_7+x_3_7_7+x_3_8_7+x_3_9_7,EQ,1),\n",
       " docplex.mp.LinearConstraint[](x_1_7_8+x_1_8_8+x_1_9_8+x_2_7_8+x_2_8_8+x_2_9_8+x_3_7_8+x_3_8_8+x_3_9_8,EQ,1),\n",
       " docplex.mp.LinearConstraint[](x_1_7_9+x_1_8_9+x_1_9_9+x_2_7_9+x_2_8_9+x_2_9_9+x_3_7_9+x_3_8_9+x_3_9_9,EQ,1),\n",
       " docplex.mp.LinearConstraint[](x_4_1_1+x_4_2_1+x_4_3_1+x_5_1_1+x_5_2_1+x_5_3_1+x_6_1_1+x_6_2_1+x_6_3_1,EQ,1),\n",
       " docplex.mp.LinearConstraint[](x_4_1_2+x_4_2_2+x_4_3_2+x_5_1_2+x_5_2_2+x_5_3_2+x_6_1_2+x_6_2_2+x_6_3_2,EQ,1),\n",
       " docplex.mp.LinearConstraint[](x_4_1_3+x_4_2_3+x_4_3_3+x_5_1_3+x_5_2_3+x_5_3_3+x_6_1_3+x_6_2_3+x_6_3_3,EQ,1),\n",
       " docplex.mp.LinearConstraint[](x_4_1_4+x_4_2_4+x_4_3_4+x_5_1_4+x_5_2_4+x_5_3_4+x_6_1_4+x_6_2_4+x_6_3_4,EQ,1),\n",
       " docplex.mp.LinearConstraint[](x_4_1_5+x_4_2_5+x_4_3_5+x_5_1_5+x_5_2_5+x_5_3_5+x_6_1_5+x_6_2_5+x_6_3_5,EQ,1),\n",
       " docplex.mp.LinearConstraint[](x_4_1_6+x_4_2_6+x_4_3_6+x_5_1_6+x_5_2_6+x_5_3_6+x_6_1_6+x_6_2_6+x_6_3_6,EQ,1),\n",
       " docplex.mp.LinearConstraint[](x_4_1_7+x_4_2_7+x_4_3_7+x_5_1_7+x_5_2_7+x_5_3_7+x_6_1_7+x_6_2_7+x_6_3_7,EQ,1),\n",
       " docplex.mp.LinearConstraint[](x_4_1_8+x_4_2_8+x_4_3_8+x_5_1_8+x_5_2_8+x_5_3_8+x_6_1_8+x_6_2_8+x_6_3_8,EQ,1),\n",
       " docplex.mp.LinearConstraint[](x_4_1_9+x_4_2_9+x_4_3_9+x_5_1_9+x_5_2_9+x_5_3_9+x_6_1_9+x_6_2_9+x_6_3_9,EQ,1),\n",
       " docplex.mp.LinearConstraint[](x_4_4_1+x_4_5_1+x_4_6_1+x_5_4_1+x_5_5_1+x_5_6_1+x_6_4_1+x_6_5_1+x_6_6_1,EQ,1),\n",
       " docplex.mp.LinearConstraint[](x_4_4_2+x_4_5_2+x_4_6_2+x_5_4_2+x_5_5_2+x_5_6_2+x_6_4_2+x_6_5_2+x_6_6_2,EQ,1),\n",
       " docplex.mp.LinearConstraint[](x_4_4_3+x_4_5_3+x_4_6_3+x_5_4_3+x_5_5_3+x_5_6_3+x_6_4_3+x_6_5_3+x_6_6_3,EQ,1),\n",
       " docplex.mp.LinearConstraint[](x_4_4_4+x_4_5_4+x_4_6_4+x_5_4_4+x_5_5_4+x_5_6_4+x_6_4_4+x_6_5_4+x_6_6_4,EQ,1),\n",
       " docplex.mp.LinearConstraint[](x_4_4_5+x_4_5_5+x_4_6_5+x_5_4_5+x_5_5_5+x_5_6_5+x_6_4_5+x_6_5_5+x_6_6_5,EQ,1),\n",
       " docplex.mp.LinearConstraint[](x_4_4_6+x_4_5_6+x_4_6_6+x_5_4_6+x_5_5_6+x_5_6_6+x_6_4_6+x_6_5_6+x_6_6_6,EQ,1),\n",
       " docplex.mp.LinearConstraint[](x_4_4_7+x_4_5_7+x_4_6_7+x_5_4_7+x_5_5_7+x_5_6_7+x_6_4_7+x_6_5_7+x_6_6_7,EQ,1),\n",
       " docplex.mp.LinearConstraint[](x_4_4_8+x_4_5_8+x_4_6_8+x_5_4_8+x_5_5_8+x_5_6_8+x_6_4_8+x_6_5_8+x_6_6_8,EQ,1),\n",
       " docplex.mp.LinearConstraint[](x_4_4_9+x_4_5_9+x_4_6_9+x_5_4_9+x_5_5_9+x_5_6_9+x_6_4_9+x_6_5_9+x_6_6_9,EQ,1),\n",
       " docplex.mp.LinearConstraint[](x_4_7_1+x_4_8_1+x_4_9_1+x_5_7_1+x_5_8_1+x_5_9_1+x_6_7_1+x_6_8_1+x_6_9_1,EQ,1),\n",
       " docplex.mp.LinearConstraint[](x_4_7_2+x_4_8_2+x_4_9_2+x_5_7_2+x_5_8_2+x_5_9_2+x_6_7_2+x_6_8_2+x_6_9_2,EQ,1),\n",
       " docplex.mp.LinearConstraint[](x_4_7_3+x_4_8_3+x_4_9_3+x_5_7_3+x_5_8_3+x_5_9_3+x_6_7_3+x_6_8_3+x_6_9_3,EQ,1),\n",
       " docplex.mp.LinearConstraint[](x_4_7_4+x_4_8_4+x_4_9_4+x_5_7_4+x_5_8_4+x_5_9_4+x_6_7_4+x_6_8_4+x_6_9_4,EQ,1),\n",
       " docplex.mp.LinearConstraint[](x_4_7_5+x_4_8_5+x_4_9_5+x_5_7_5+x_5_8_5+x_5_9_5+x_6_7_5+x_6_8_5+x_6_9_5,EQ,1),\n",
       " docplex.mp.LinearConstraint[](x_4_7_6+x_4_8_6+x_4_9_6+x_5_7_6+x_5_8_6+x_5_9_6+x_6_7_6+x_6_8_6+x_6_9_6,EQ,1),\n",
       " docplex.mp.LinearConstraint[](x_4_7_7+x_4_8_7+x_4_9_7+x_5_7_7+x_5_8_7+x_5_9_7+x_6_7_7+x_6_8_7+x_6_9_7,EQ,1),\n",
       " docplex.mp.LinearConstraint[](x_4_7_8+x_4_8_8+x_4_9_8+x_5_7_8+x_5_8_8+x_5_9_8+x_6_7_8+x_6_8_8+x_6_9_8,EQ,1),\n",
       " docplex.mp.LinearConstraint[](x_4_7_9+x_4_8_9+x_4_9_9+x_5_7_9+x_5_8_9+x_5_9_9+x_6_7_9+x_6_8_9+x_6_9_9,EQ,1),\n",
       " docplex.mp.LinearConstraint[](x_7_1_1+x_7_2_1+x_7_3_1+x_8_1_1+x_8_2_1+x_8_3_1+x_9_1_1+x_9_2_1+x_9_3_1,EQ,1),\n",
       " docplex.mp.LinearConstraint[](x_7_1_2+x_7_2_2+x_7_3_2+x_8_1_2+x_8_2_2+x_8_3_2+x_9_1_2+x_9_2_2+x_9_3_2,EQ,1),\n",
       " docplex.mp.LinearConstraint[](x_7_1_3+x_7_2_3+x_7_3_3+x_8_1_3+x_8_2_3+x_8_3_3+x_9_1_3+x_9_2_3+x_9_3_3,EQ,1),\n",
       " docplex.mp.LinearConstraint[](x_7_1_4+x_7_2_4+x_7_3_4+x_8_1_4+x_8_2_4+x_8_3_4+x_9_1_4+x_9_2_4+x_9_3_4,EQ,1),\n",
       " docplex.mp.LinearConstraint[](x_7_1_5+x_7_2_5+x_7_3_5+x_8_1_5+x_8_2_5+x_8_3_5+x_9_1_5+x_9_2_5+x_9_3_5,EQ,1),\n",
       " docplex.mp.LinearConstraint[](x_7_1_6+x_7_2_6+x_7_3_6+x_8_1_6+x_8_2_6+x_8_3_6+x_9_1_6+x_9_2_6+x_9_3_6,EQ,1),\n",
       " docplex.mp.LinearConstraint[](x_7_1_7+x_7_2_7+x_7_3_7+x_8_1_7+x_8_2_7+x_8_3_7+x_9_1_7+x_9_2_7+x_9_3_7,EQ,1),\n",
       " docplex.mp.LinearConstraint[](x_7_1_8+x_7_2_8+x_7_3_8+x_8_1_8+x_8_2_8+x_8_3_8+x_9_1_8+x_9_2_8+x_9_3_8,EQ,1),\n",
       " docplex.mp.LinearConstraint[](x_7_1_9+x_7_2_9+x_7_3_9+x_8_1_9+x_8_2_9+x_8_3_9+x_9_1_9+x_9_2_9+x_9_3_9,EQ,1),\n",
       " docplex.mp.LinearConstraint[](x_7_4_1+x_7_5_1+x_7_6_1+x_8_4_1+x_8_5_1+x_8_6_1+x_9_4_1+x_9_5_1+x_9_6_1,EQ,1),\n",
       " docplex.mp.LinearConstraint[](x_7_4_2+x_7_5_2+x_7_6_2+x_8_4_2+x_8_5_2+x_8_6_2+x_9_4_2+x_9_5_2+x_9_6_2,EQ,1),\n",
       " docplex.mp.LinearConstraint[](x_7_4_3+x_7_5_3+x_7_6_3+x_8_4_3+x_8_5_3+x_8_6_3+x_9_4_3+x_9_5_3+x_9_6_3,EQ,1),\n",
       " docplex.mp.LinearConstraint[](x_7_4_4+x_7_5_4+x_7_6_4+x_8_4_4+x_8_5_4+x_8_6_4+x_9_4_4+x_9_5_4+x_9_6_4,EQ,1),\n",
       " docplex.mp.LinearConstraint[](x_7_4_5+x_7_5_5+x_7_6_5+x_8_4_5+x_8_5_5+x_8_6_5+x_9_4_5+x_9_5_5+x_9_6_5,EQ,1),\n",
       " docplex.mp.LinearConstraint[](x_7_4_6+x_7_5_6+x_7_6_6+x_8_4_6+x_8_5_6+x_8_6_6+x_9_4_6+x_9_5_6+x_9_6_6,EQ,1),\n",
       " docplex.mp.LinearConstraint[](x_7_4_7+x_7_5_7+x_7_6_7+x_8_4_7+x_8_5_7+x_8_6_7+x_9_4_7+x_9_5_7+x_9_6_7,EQ,1),\n",
       " docplex.mp.LinearConstraint[](x_7_4_8+x_7_5_8+x_7_6_8+x_8_4_8+x_8_5_8+x_8_6_8+x_9_4_8+x_9_5_8+x_9_6_8,EQ,1),\n",
       " docplex.mp.LinearConstraint[](x_7_4_9+x_7_5_9+x_7_6_9+x_8_4_9+x_8_5_9+x_8_6_9+x_9_4_9+x_9_5_9+x_9_6_9,EQ,1),\n",
       " docplex.mp.LinearConstraint[](x_7_7_1+x_7_8_1+x_7_9_1+x_8_7_1+x_8_8_1+x_8_9_1+x_9_7_1+x_9_8_1+x_9_9_1,EQ,1),\n",
       " docplex.mp.LinearConstraint[](x_7_7_2+x_7_8_2+x_7_9_2+x_8_7_2+x_8_8_2+x_8_9_2+x_9_7_2+x_9_8_2+x_9_9_2,EQ,1),\n",
       " docplex.mp.LinearConstraint[](x_7_7_3+x_7_8_3+x_7_9_3+x_8_7_3+x_8_8_3+x_8_9_3+x_9_7_3+x_9_8_3+x_9_9_3,EQ,1),\n",
       " docplex.mp.LinearConstraint[](x_7_7_4+x_7_8_4+x_7_9_4+x_8_7_4+x_8_8_4+x_8_9_4+x_9_7_4+x_9_8_4+x_9_9_4,EQ,1),\n",
       " docplex.mp.LinearConstraint[](x_7_7_5+x_7_8_5+x_7_9_5+x_8_7_5+x_8_8_5+x_8_9_5+x_9_7_5+x_9_8_5+x_9_9_5,EQ,1),\n",
       " docplex.mp.LinearConstraint[](x_7_7_6+x_7_8_6+x_7_9_6+x_8_7_6+x_8_8_6+x_8_9_6+x_9_7_6+x_9_8_6+x_9_9_6,EQ,1),\n",
       " docplex.mp.LinearConstraint[](x_7_7_7+x_7_8_7+x_7_9_7+x_8_7_7+x_8_8_7+x_8_9_7+x_9_7_7+x_9_8_7+x_9_9_7,EQ,1),\n",
       " docplex.mp.LinearConstraint[](x_7_7_8+x_7_8_8+x_7_9_8+x_8_7_8+x_8_8_8+x_8_9_8+x_9_7_8+x_9_8_8+x_9_9_8,EQ,1),\n",
       " docplex.mp.LinearConstraint[](x_7_7_9+x_7_8_9+x_7_9_9+x_8_7_9+x_8_8_9+x_8_9_9+x_9_7_9+x_9_8_9+x_9_9_9,EQ,1)]"
      ]
     },
     "execution_count": 11,
     "metadata": {},
     "output_type": "execute_result"
    }
   ],
   "source": [
    "sudoku.add_constraints(sudoku.sum(x[(i+a,j+b,k)] for i in N[:3] for j in N[:3] ) == 1 for a in a_b_set for b in a_b_set for k in N)"
   ]
  },
  {
   "cell_type": "markdown",
   "metadata": {},
   "source": [
    "Add the already provided numbers"
   ]
  },
  {
   "cell_type": "code",
   "execution_count": 12,
   "metadata": {},
   "outputs": [],
   "source": [
    "pre_fill = [(6,2,5),\n",
    "(7,1,2),\n",
    "(8,2,9),\n",
    "(7,3,5),\n",
    "(6,4,3),\n",
    "(8,4,4),\n",
    "(7,5,3),\n",
    "(6,6,8),\n",
    "(8,6,6),\n",
    "(7,7,6),\n",
    "(6,8,2),\n",
    "(8,8,1),\n",
    "(7,9,9)]"
   ]
  },
  {
   "cell_type": "code",
   "execution_count": 13,
   "metadata": {},
   "outputs": [
    {
     "data": {
      "text/plain": [
       "[docplex.mp.LinearConstraint[](x_6_2_5,EQ,1),\n",
       " docplex.mp.LinearConstraint[](x_7_1_2,EQ,1),\n",
       " docplex.mp.LinearConstraint[](x_8_2_9,EQ,1),\n",
       " docplex.mp.LinearConstraint[](x_7_3_5,EQ,1),\n",
       " docplex.mp.LinearConstraint[](x_6_4_3,EQ,1),\n",
       " docplex.mp.LinearConstraint[](x_8_4_4,EQ,1),\n",
       " docplex.mp.LinearConstraint[](x_7_5_3,EQ,1),\n",
       " docplex.mp.LinearConstraint[](x_6_6_8,EQ,1),\n",
       " docplex.mp.LinearConstraint[](x_8_6_6,EQ,1),\n",
       " docplex.mp.LinearConstraint[](x_7_7_6,EQ,1),\n",
       " docplex.mp.LinearConstraint[](x_6_8_2,EQ,1),\n",
       " docplex.mp.LinearConstraint[](x_8_8_1,EQ,1),\n",
       " docplex.mp.LinearConstraint[](x_7_9_9,EQ,1)]"
      ]
     },
     "execution_count": 13,
     "metadata": {},
     "output_type": "execute_result"
    }
   ],
   "source": [
    "sudoku.add_constraints(x[cell] == 1 for cell in pre_fill)"
   ]
  },
  {
   "cell_type": "markdown",
   "metadata": {},
   "source": [
    "# Solve the problem"
   ]
  },
  {
   "cell_type": "code",
   "execution_count": 14,
   "metadata": {},
   "outputs": [
    {
     "data": {
      "text/plain": [
       "docplex.mp.solution.SolveSolution(obj=0,values={x_1_1_4:1,x_1_2_6:1,x_1_.."
      ]
     },
     "execution_count": 14,
     "metadata": {},
     "output_type": "execute_result"
    }
   ],
   "source": [
    "sudoku.solve()"
   ]
  },
  {
   "cell_type": "markdown",
   "metadata": {},
   "source": [
    "# Objective Function Value"
   ]
  },
  {
   "cell_type": "code",
   "execution_count": 15,
   "metadata": {},
   "outputs": [
    {
     "data": {
      "text/plain": [
       "0.0"
      ]
     },
     "execution_count": 15,
     "metadata": {},
     "output_type": "execute_result"
    }
   ],
   "source": [
    "sudoku.solution.objective_value"
   ]
  },
  {
   "cell_type": "code",
   "execution_count": 16,
   "metadata": {},
   "outputs": [],
   "source": [
    "sudoku.solution.export(\"sudoku_other_solution.json\")"
   ]
  },
  {
   "cell_type": "code",
   "execution_count": 17,
   "metadata": {},
   "outputs": [
    {
     "name": "stdout",
     "output_type": "stream",
     "text": [
      "Done!\n"
     ]
    }
   ],
   "source": [
    "print(\"Done!\")"
   ]
  },
  {
   "cell_type": "code",
   "execution_count": 18,
   "metadata": {},
   "outputs": [
    {
     "data": {
      "text/plain": [
       "docplex.mp.SolveDetails(time=0,status='integer optimal solution')"
      ]
     },
     "execution_count": 18,
     "metadata": {},
     "output_type": "execute_result"
    }
   ],
   "source": [
    "sudoku.solve_details"
   ]
  },
  {
   "cell_type": "markdown",
   "metadata": {},
   "source": [
    "# Write Solution in Sudoku Format"
   ]
  },
  {
   "cell_type": "code",
   "execution_count": 19,
   "metadata": {},
   "outputs": [],
   "source": [
    "with open('sudoku_other_solution.txt', 'w+') as sol_file:\n",
    "\n",
    "    for i in N:\n",
    "        if i in [1,4,7]:\n",
    "            sol_file.write(\"+-------+-------+-------+\\n\")\n",
    "\n",
    "        for j in N:\n",
    "            for k in N:\n",
    "                if sudoku.solution.get_value(x[(i,j,k)]):\n",
    "                    if j in [1,4,7]:\n",
    "                        sol_file.write(\"| \")\n",
    "\n",
    "                    sol_file.write(f\"{k} \")\n",
    "\n",
    "                    if j == 9:\n",
    "                        sol_file.write(\"|\\n\")\n",
    "\n",
    "    sol_file.write(\"+-------+-------+-------+\") "
   ]
  },
  {
   "cell_type": "code",
   "execution_count": 20,
   "metadata": {},
   "outputs": [
    {
     "name": "stdout",
     "output_type": "stream",
     "text": [
      "Done\n"
     ]
    }
   ],
   "source": [
    "print(\"Done\")"
   ]
  }
 ],
 "metadata": {
  "kernelspec": {
   "display_name": "Python 3.10.4 ('py_cplex')",
   "language": "python",
   "name": "python3"
  },
  "language_info": {
   "codemirror_mode": {
    "name": "ipython",
    "version": 3
   },
   "file_extension": ".py",
   "mimetype": "text/x-python",
   "name": "python",
   "nbconvert_exporter": "python",
   "pygments_lexer": "ipython3",
   "version": "3.10.4"
  },
  "orig_nbformat": 4,
  "vscode": {
   "interpreter": {
    "hash": "4ad4e50790df1adc290194063a38ddab9b784578b3268fc04e81ab0a0ab2d055"
   }
  }
 },
 "nbformat": 4,
 "nbformat_minor": 2
}
